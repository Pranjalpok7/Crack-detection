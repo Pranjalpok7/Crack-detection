{
 "cells": [
  {
   "cell_type": "code",
   "execution_count": 4,
   "id": "3c068b89-bdb4-4001-b35c-1df69be92954",
   "metadata": {},
   "outputs": [],
   "source": [
    "import os\n",
    "import random\n",
    "import shutil\n",
    "from sklearn.model_selection import train_test_split\n"
   ]
  },
  {
   "cell_type": "code",
   "execution_count": 5,
   "id": "1ed64fd6-8ecb-4750-991e-b01ed4f9ee61",
   "metadata": {},
   "outputs": [],
   "source": [
    "def split_dataset(image_dir, label_dir, train_image_dir, val_image_dir, train_label_dir, val_label_dir, val_size=0.2, random_seed=42):\n",
    "    # Create directories if they do not exist\n",
    "    for directory in [train_image_dir, val_image_dir, train_label_dir, val_label_dir]:\n",
    "        if not os.path.exists(directory):\n",
    "            os.makedirs(directory)\n",
    "\n",
    "    # Get list of images and corresponding labels\n",
    "    images = sorted(os.listdir(image_dir))\n",
    "    labels = sorted(os.listdir(label_dir))\n",
    "\n",
    "    # Ensure images and labels are matched by name\n",
    "    images = [f for f in images if os.path.splitext(f)[0] in [os.path.splitext(l)[0] for l in labels]]\n",
    "    labels = [f for f in labels if os.path.splitext(f)[0] in [os.path.splitext(i)[0] for i in images]]\n",
    "\n",
    "    # Split the dataset\n",
    "    train_images, val_images, train_labels, val_labels = train_test_split(\n",
    "        images, labels, test_size=val_size, random_state=random_seed, shuffle=True\n",
    "    )\n",
    "\n",
    "    # Move the files to the respective directories\n",
    "    for img in train_images:\n",
    "        shutil.copy(os.path.join(image_dir, img), os.path.join(train_image_dir, img))\n",
    "    for img in val_images:\n",
    "        shutil.copy(os.path.join(image_dir, img), os.path.join(val_image_dir, img))\n",
    "    for lbl in train_labels:\n",
    "        shutil.copy(os.path.join(label_dir, lbl), os.path.join(train_label_dir, lbl))\n",
    "    for lbl in val_labels:\n",
    "        shutil.copy(os.path.join(label_dir, lbl), os.path.join(val_label_dir, lbl))\n",
    "\n",
    "    print(f\"Training set: {len(train_images)} images\")\n",
    "    print(f\"Validation set: {len(val_images)} images\")\n"
   ]
  },
  {
   "cell_type": "code",
   "execution_count": 6,
   "id": "c9689654-0cef-47a5-913a-764c98cc3193",
   "metadata": {},
   "outputs": [
    {
     "name": "stdout",
     "output_type": "stream",
     "text": [
      "Training set: 7909 images\n",
      "Validation set: 1978 images\n"
     ]
    }
   ],
   "source": [
    "if __name__ == \"__main__\":\n",
    "    image_directory = 'Crack_Segmentation_Dataset/images'  # Replace with the path to your train images directory\n",
    "    label_directory = 'Crack_Segmentation_Dataset/labels'  # Replace with the path to your train labels directory\n",
    "    train_image_directory = 'Crack_Segmentation_Dataset/images_/train'  # Replace with the path to the output train images directory\n",
    "    val_image_directory = 'Crack_Segmentation_Dataset/images_/val'  # Replace with the path to the output validation images directory\n",
    "    train_label_directory = 'Crack_Segmentation_Dataset/labels_/train_label'  # Replace with the path to the output train labels directory\n",
    "    val_label_directory = 'Crack_Segmentation_Dataset/labels_/val_label'  # Replace with the path to the output validation labels directory\n",
    "\n",
    "    split_dataset(image_directory, label_directory, train_image_directory, val_image_directory, train_label_directory, val_label_directory)"
   ]
  },
  {
   "cell_type": "code",
   "execution_count": null,
   "id": "f321d9bb-34ab-4f70-8c08-8bf1534bdce2",
   "metadata": {},
   "outputs": [],
   "source": []
  }
 ],
 "metadata": {
  "kernelspec": {
   "display_name": "Python 3 (ipykernel)",
   "language": "python",
   "name": "python3"
  },
  "language_info": {
   "codemirror_mode": {
    "name": "ipython",
    "version": 3
   },
   "file_extension": ".py",
   "mimetype": "text/x-python",
   "name": "python",
   "nbconvert_exporter": "python",
   "pygments_lexer": "ipython3",
   "version": "3.11.9"
  }
 },
 "nbformat": 4,
 "nbformat_minor": 5
}
