{
 "cells": [
  {
   "cell_type": "markdown",
   "id": "1192bd2e-c9eb-4b3c-b5a3-e2c277364604",
   "metadata": {},
   "source": [
    "#### This code moves the additional data to new directory"
   ]
  },
  {
   "cell_type": "code",
   "execution_count": 1,
   "id": "21c4ab82-2b6c-401f-aa9c-96b517e2f569",
   "metadata": {},
   "outputs": [
    {
     "name": "stdout",
     "output_type": "stream",
     "text": [
      "Moved unmatched mask: Rissbilder_for_Florian_9S6A2895_0_520_3840_4506 (1).jpg\n",
      "Moved unmatched mask: Rissbilder_for_Florian_9S6A2894_23_591_3752_3205(1).jpg\n",
      "Moved unmatched mask: Rissbilder_for_Florian_9S6A2895_1054_2017_2605_3001 (1).jpg\n",
      "Moved unmatched mask: Rissbilder_for_Florian_9S6A2895_1054_2017_2605_3001(1).jpg\n",
      "Moved unmatched mask: Rissbilder_for_Florian_9S6A2894_23_591_3752_3205 (1).jpg\n",
      "Moved unmatched mask: Rissbilder_for_Florian_9S6A2895_0_520_3840_4506(1).jpg\n",
      "Moved unmatched mask: Rissbilder_for_Florian_9S6A2895_0_0_3840_5760(1).jpg\n",
      "Moved unmatched mask: Rissbilder_for_Florian_9S6A2895_1052_1345_2485_3231 (1).jpg\n",
      "Moved unmatched mask: Rissbilder_for_Florian_9S6A2894_2946_1337_2635_2361 (1).jpg\n",
      "Moved unmatched mask: Rissbilder_for_Florian_9S6A2894_2423_46_3033_3668(1).jpg\n",
      "Moved unmatched mask: Rissbilder_for_Florian_9S6A2894_250_692_1976_2604 (1).jpg\n",
      "Moved unmatched mask: Rissbilder_for_Florian_9S6A2894_2423_46_3033_3668 (1).jpg\n",
      "Moved unmatched mask: Rissbilder_for_Florian_9S6A2894_2274_588_3314_3190(1).jpg\n",
      "Moved unmatched mask: Rissbilder_for_Florian_9S6A2894_2274_588_3314_3190 (1).jpg\n",
      "Moved unmatched mask: Rissbilder_for_Florian_9S6A2894_250_692_1976_2604(1).jpg\n",
      "Moved unmatched mask: Rissbilder_for_Florian_9S6A2895_1052_1345_2485_3231(1).jpg\n",
      "Moved unmatched mask: Rissbilder_for_Florian_9S6A2895_0_0_3840_5760 (1).jpg\n",
      "Moved unmatched mask: Rissbilder_for_Florian_9S6A2894_2946_1337_2635_2361(1).jpg\n"
     ]
    }
   ],
   "source": [
    "import os\n",
    "import shutil\n",
    "\n",
    "def move_unmatched_masks(image_dir, mask_dir, unmatched_dir):\n",
    "    # Create the directory for unmatched masks if it does not exist\n",
    "    if not os.path.exists(unmatched_dir):\n",
    "        os.makedirs(unmatched_dir)\n",
    "\n",
    "    # Get the list of image filenames without extensions\n",
    "    image_files = set(os.path.splitext(f)[0] for f in os.listdir(image_dir) if os.path.isfile(os.path.join(image_dir, f)))\n",
    "\n",
    "    # Iterate over the mask files\n",
    "    for mask_file in os.listdir(mask_dir):\n",
    "        mask_name, mask_ext = os.path.splitext(mask_file)\n",
    "        mask_path = os.path.join(mask_dir, mask_file)\n",
    "        \n",
    "        # Check if the mask has a corresponding image\n",
    "        if mask_name not in image_files:\n",
    "            # Move the unmatched mask to the unmatched directory\n",
    "            shutil.move(mask_path, os.path.join(unmatched_dir, mask_file))\n",
    "            print(f'Moved unmatched mask: {mask_file}')\n",
    "\n",
    "if __name__ == \"__main__\":\n",
    "    image_directory = 'Crack_Segmentation_Dataset/images'  # Replace with the path to your image directory\n",
    "    mask_directory = 'Crack_Segmentation_Dataset/masks'    # Replace with the path to your mask directory\n",
    "    unmatched_directory = 'Crack_Segmentation_Dataset/unmatched_mask'  # Replace with the path to the directory for unmatched masks\n",
    "\n",
    "    move_unmatched_masks(image_directory, mask_directory, unmatched_directory)\n"
   ]
  },
  {
   "cell_type": "code",
   "execution_count": null,
   "id": "ad91fd57-93b0-43bb-902d-23d2424bb218",
   "metadata": {},
   "outputs": [],
   "source": []
  }
 ],
 "metadata": {
  "kernelspec": {
   "display_name": "Python 3 (ipykernel)",
   "language": "python",
   "name": "python3"
  },
  "language_info": {
   "codemirror_mode": {
    "name": "ipython",
    "version": 3
   },
   "file_extension": ".py",
   "mimetype": "text/x-python",
   "name": "python",
   "nbconvert_exporter": "python",
   "pygments_lexer": "ipython3",
   "version": "3.11.9"
  }
 },
 "nbformat": 4,
 "nbformat_minor": 5
}
